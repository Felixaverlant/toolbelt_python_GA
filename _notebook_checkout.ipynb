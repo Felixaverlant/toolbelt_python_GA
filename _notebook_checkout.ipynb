{
 "cells": [
  {
   "cell_type": "code",
   "execution_count": 1,
   "metadata": {
    "collapsed": false
   },
   "outputs": [],
   "source": [
    "import ga_utils as g\n",
    "import pandas as pd\n",
    "import auth as auth\n",
    "import matplotlib\n",
    "from ggplot import *\n",
    "import config as config\n",
    "import matplotlib.pyplot as plt\n",
    "%matplotlib inline"
   ]
  },
  {
   "cell_type": "code",
   "execution_count": 2,
   "metadata": {
    "collapsed": false
   },
   "outputs": [
    {
     "data": {
      "text/plain": [
       "<googleapiclient.discovery.Resource at 0x11d54f0d0>"
      ]
     },
     "execution_count": 2,
     "metadata": {},
     "output_type": "execute_result"
    }
   ],
   "source": [
    "# launch auth process\n",
    "auth.main()"
   ]
  },
  {
   "cell_type": "code",
   "execution_count": 3,
   "metadata": {
    "collapsed": false
   },
   "outputs": [
    {
     "data": {
      "text/html": [
       "<div>\n",
       "<table border=\"1\" class=\"dataframe\">\n",
       "  <thead>\n",
       "    <tr style=\"text-align: right;\">\n",
       "      <th></th>\n",
       "      <th>id</th>\n",
       "      <th>name</th>\n",
       "    </tr>\n",
       "  </thead>\n",
       "  <tbody>\n",
       "    <tr>\n",
       "      <th>0</th>\n",
       "      <td>12138230</td>\n",
       "      <td>Tough Mudder Domain</td>\n",
       "    </tr>\n",
       "    <tr>\n",
       "      <th>1</th>\n",
       "      <td>20944990</td>\n",
       "      <td>Ode a la rose</td>\n",
       "    </tr>\n",
       "    <tr>\n",
       "      <th>2</th>\n",
       "      <td>40789744</td>\n",
       "      <td>Mudderella</td>\n",
       "    </tr>\n",
       "    <tr>\n",
       "      <th>3</th>\n",
       "      <td>61951480</td>\n",
       "      <td>Tough Mudder Gear</td>\n",
       "    </tr>\n",
       "  </tbody>\n",
       "</table>\n",
       "</div>"
      ],
      "text/plain": [
       "         id                 name\n",
       "0  12138230  Tough Mudder Domain\n",
       "1  20944990        Ode a la rose\n",
       "2  40789744           Mudderella\n",
       "3  61951480    Tough Mudder Gear"
      ]
     },
     "execution_count": 3,
     "metadata": {},
     "output_type": "execute_result"
    }
   ],
   "source": [
    "g.list_accounts()"
   ]
  },
  {
   "cell_type": "code",
   "execution_count": 4,
   "metadata": {
    "collapsed": false
   },
   "outputs": [
    {
     "data": {
      "text/html": [
       "<div>\n",
       "<table border=\"1\" class=\"dataframe\">\n",
       "  <thead>\n",
       "    <tr style=\"text-align: right;\">\n",
       "      <th></th>\n",
       "      <th>accountId</th>\n",
       "      <th>id</th>\n",
       "      <th>name</th>\n",
       "    </tr>\n",
       "  </thead>\n",
       "  <tbody>\n",
       "    <tr>\n",
       "      <th>0</th>\n",
       "      <td>20944990</td>\n",
       "      <td>UA-20944990-1</td>\n",
       "      <td>Ode a la rose - Live</td>\n",
       "    </tr>\n",
       "  </tbody>\n",
       "</table>\n",
       "</div>"
      ],
      "text/plain": [
       "   accountId             id                  name\n",
       "0   20944990  UA-20944990-1  Ode a la rose - Live"
      ]
     },
     "execution_count": 4,
     "metadata": {},
     "output_type": "execute_result"
    }
   ],
   "source": [
    "g.list_properties(20944990)"
   ]
  },
  {
   "cell_type": "code",
   "execution_count": 5,
   "metadata": {
    "collapsed": false
   },
   "outputs": [
    {
     "data": {
      "text/html": [
       "<div>\n",
       "<table border=\"1\" class=\"dataframe\">\n",
       "  <thead>\n",
       "    <tr style=\"text-align: right;\">\n",
       "      <th></th>\n",
       "      <th>accountId</th>\n",
       "      <th>id</th>\n",
       "      <th>name</th>\n",
       "    </tr>\n",
       "  </thead>\n",
       "  <tbody>\n",
       "    <tr>\n",
       "      <th>0</th>\n",
       "      <td>20944990</td>\n",
       "      <td>41452992</td>\n",
       "      <td>1.4 - Historical Results</td>\n",
       "    </tr>\n",
       "    <tr>\n",
       "      <th>1</th>\n",
       "      <td>20944990</td>\n",
       "      <td>112718801</td>\n",
       "      <td>1.1 - Default</td>\n",
       "    </tr>\n",
       "    <tr>\n",
       "      <th>2</th>\n",
       "      <td>20944990</td>\n",
       "      <td>112834411</td>\n",
       "      <td>1.2 - Raw Data</td>\n",
       "    </tr>\n",
       "    <tr>\n",
       "      <th>3</th>\n",
       "      <td>20944990</td>\n",
       "      <td>113271648</td>\n",
       "      <td>1.3 - Cross Device</td>\n",
       "    </tr>\n",
       "  </tbody>\n",
       "</table>\n",
       "</div>"
      ],
      "text/plain": [
       "   accountId         id                      name\n",
       "0   20944990   41452992  1.4 - Historical Results\n",
       "1   20944990  112718801             1.1 - Default\n",
       "2   20944990  112834411            1.2 - Raw Data\n",
       "3   20944990  113271648        1.3 - Cross Device"
      ]
     },
     "execution_count": 5,
     "metadata": {},
     "output_type": "execute_result"
    }
   ],
   "source": [
    "g.list_profiles(20944990,\"UA-20944990-1\")"
   ]
  },
  {
   "cell_type": "code",
   "execution_count": 6,
   "metadata": {
    "collapsed": true
   },
   "outputs": [],
   "source": [
    "start_date = '2016-03-10'\n",
    "end_date = '2016-05-11'"
   ]
  },
  {
   "cell_type": "code",
   "execution_count": 7,
   "metadata": {
    "collapsed": false
   },
   "outputs": [],
   "source": [
    "dfg = g.get_checkout_infos(config.profile_id, start_date, end_date, config.first_step_CO)\n",
    "df_desktop = g.get_checkout_infos(config.profile_id, start_date, end_date, config.first_step_CO, 'desktop')\n",
    "df_mobile = g.get_checkout_infos(config.profile_id, start_date, end_date, config.first_step_CO, 'mobile')\n",
    "df_tablet = g.get_checkout_infos(config.profile_id, start_date, end_date, config.first_step_CO, 'tablet')"
   ]
  },
  {
   "cell_type": "code",
   "execution_count": 8,
   "metadata": {
    "collapsed": false
   },
   "outputs": [],
   "source": [
    "dd = dfg.groupby(by=['steps', 'status'], sort=False).sum()\n",
    "dd_desktop = df_desktop.groupby(['steps', 'status'], sort=False).sum()\n",
    "dd_mobile = df_mobile.groupby(['steps', 'status'], sort=False).sum()\n",
    "dd_tablet = df_tablet.groupby(['steps', 'status'], sort=False).sum()"
   ]
  },
  {
   "cell_type": "code",
   "execution_count": 9,
   "metadata": {
    "collapsed": false
   },
   "outputs": [
    {
     "data": {
      "text/html": [
       "<div>\n",
       "<table border=\"1\" class=\"dataframe\">\n",
       "  <thead>\n",
       "    <tr style=\"text-align: right;\">\n",
       "      <th></th>\n",
       "      <th></th>\n",
       "      <th></th>\n",
       "      <th>percent</th>\n",
       "    </tr>\n",
       "    <tr>\n",
       "      <th>device</th>\n",
       "      <th>steps</th>\n",
       "      <th>status</th>\n",
       "      <th></th>\n",
       "    </tr>\n",
       "  </thead>\n",
       "  <tbody>\n",
       "    <tr>\n",
       "      <th rowspan=\"8\" valign=\"top\"></th>\n",
       "      <th rowspan=\"2\" valign=\"top\">Checkout</th>\n",
       "      <th>lost</th>\n",
       "      <td>76.245351</td>\n",
       "    </tr>\n",
       "    <tr>\n",
       "      <th>stays</th>\n",
       "      <td>11.000000</td>\n",
       "    </tr>\n",
       "    <tr>\n",
       "      <th rowspan=\"2\" valign=\"top\">Conversions</th>\n",
       "      <th>lost</th>\n",
       "      <td>44.343991</td>\n",
       "    </tr>\n",
       "    <tr>\n",
       "      <th>stays</th>\n",
       "      <td>6.000000</td>\n",
       "    </tr>\n",
       "    <tr>\n",
       "      <th rowspan=\"2\" valign=\"top\">Shopping</th>\n",
       "      <th>lost</th>\n",
       "      <td>49.102366</td>\n",
       "    </tr>\n",
       "    <tr>\n",
       "      <th>stays</th>\n",
       "      <td>50.897634</td>\n",
       "    </tr>\n",
       "    <tr>\n",
       "      <th rowspan=\"2\" valign=\"top\">total</th>\n",
       "      <th>lost</th>\n",
       "      <td>0.000000</td>\n",
       "    </tr>\n",
       "    <tr>\n",
       "      <th>stays</th>\n",
       "      <td>100.000000</td>\n",
       "    </tr>\n",
       "    <tr>\n",
       "      <th rowspan=\"8\" valign=\"top\">desktop</th>\n",
       "      <th rowspan=\"2\" valign=\"top\">Checkout</th>\n",
       "      <th>lost</th>\n",
       "      <td>76.245351</td>\n",
       "    </tr>\n",
       "    <tr>\n",
       "      <th>stays</th>\n",
       "      <td>11.000000</td>\n",
       "    </tr>\n",
       "    <tr>\n",
       "      <th rowspan=\"2\" valign=\"top\">Conversions</th>\n",
       "      <th>lost</th>\n",
       "      <td>44.343991</td>\n",
       "    </tr>\n",
       "    <tr>\n",
       "      <th>stays</th>\n",
       "      <td>6.000000</td>\n",
       "    </tr>\n",
       "    <tr>\n",
       "      <th rowspan=\"2\" valign=\"top\">Shopping</th>\n",
       "      <th>lost</th>\n",
       "      <td>49.102366</td>\n",
       "    </tr>\n",
       "    <tr>\n",
       "      <th>stays</th>\n",
       "      <td>50.897634</td>\n",
       "    </tr>\n",
       "    <tr>\n",
       "      <th rowspan=\"2\" valign=\"top\">total</th>\n",
       "      <th>lost</th>\n",
       "      <td>0.000000</td>\n",
       "    </tr>\n",
       "    <tr>\n",
       "      <th>stays</th>\n",
       "      <td>100.000000</td>\n",
       "    </tr>\n",
       "    <tr>\n",
       "      <th rowspan=\"8\" valign=\"top\">mobile</th>\n",
       "      <th rowspan=\"2\" valign=\"top\">Checkout</th>\n",
       "      <th>lost</th>\n",
       "      <td>76.245351</td>\n",
       "    </tr>\n",
       "    <tr>\n",
       "      <th>stays</th>\n",
       "      <td>11.000000</td>\n",
       "    </tr>\n",
       "    <tr>\n",
       "      <th rowspan=\"2\" valign=\"top\">Conversions</th>\n",
       "      <th>lost</th>\n",
       "      <td>44.343991</td>\n",
       "    </tr>\n",
       "    <tr>\n",
       "      <th>stays</th>\n",
       "      <td>6.000000</td>\n",
       "    </tr>\n",
       "    <tr>\n",
       "      <th rowspan=\"2\" valign=\"top\">Shopping</th>\n",
       "      <th>lost</th>\n",
       "      <td>49.102366</td>\n",
       "    </tr>\n",
       "    <tr>\n",
       "      <th>stays</th>\n",
       "      <td>50.897634</td>\n",
       "    </tr>\n",
       "    <tr>\n",
       "      <th rowspan=\"2\" valign=\"top\">total</th>\n",
       "      <th>lost</th>\n",
       "      <td>0.000000</td>\n",
       "    </tr>\n",
       "    <tr>\n",
       "      <th>stays</th>\n",
       "      <td>100.000000</td>\n",
       "    </tr>\n",
       "    <tr>\n",
       "      <th rowspan=\"8\" valign=\"top\">tablet</th>\n",
       "      <th rowspan=\"2\" valign=\"top\">Checkout</th>\n",
       "      <th>lost</th>\n",
       "      <td>76.245351</td>\n",
       "    </tr>\n",
       "    <tr>\n",
       "      <th>stays</th>\n",
       "      <td>11.000000</td>\n",
       "    </tr>\n",
       "    <tr>\n",
       "      <th rowspan=\"2\" valign=\"top\">Conversions</th>\n",
       "      <th>lost</th>\n",
       "      <td>44.343991</td>\n",
       "    </tr>\n",
       "    <tr>\n",
       "      <th>stays</th>\n",
       "      <td>6.000000</td>\n",
       "    </tr>\n",
       "    <tr>\n",
       "      <th rowspan=\"2\" valign=\"top\">Shopping</th>\n",
       "      <th>lost</th>\n",
       "      <td>49.102366</td>\n",
       "    </tr>\n",
       "    <tr>\n",
       "      <th>stays</th>\n",
       "      <td>50.897634</td>\n",
       "    </tr>\n",
       "    <tr>\n",
       "      <th rowspan=\"2\" valign=\"top\">total</th>\n",
       "      <th>lost</th>\n",
       "      <td>0.000000</td>\n",
       "    </tr>\n",
       "    <tr>\n",
       "      <th>stays</th>\n",
       "      <td>100.000000</td>\n",
       "    </tr>\n",
       "  </tbody>\n",
       "</table>\n",
       "</div>"
      ],
      "text/plain": [
       "                               percent\n",
       "device  steps       status            \n",
       "        Checkout    lost     76.245351\n",
       "                    stays    11.000000\n",
       "        Conversions lost     44.343991\n",
       "                    stays     6.000000\n",
       "        Shopping    lost     49.102366\n",
       "                    stays    50.897634\n",
       "        total       lost      0.000000\n",
       "                    stays   100.000000\n",
       "desktop Checkout    lost     76.245351\n",
       "                    stays    11.000000\n",
       "        Conversions lost     44.343991\n",
       "                    stays     6.000000\n",
       "        Shopping    lost     49.102366\n",
       "                    stays    50.897634\n",
       "        total       lost      0.000000\n",
       "                    stays   100.000000\n",
       "mobile  Checkout    lost     76.245351\n",
       "                    stays    11.000000\n",
       "        Conversions lost     44.343991\n",
       "                    stays     6.000000\n",
       "        Shopping    lost     49.102366\n",
       "                    stays    50.897634\n",
       "        total       lost      0.000000\n",
       "                    stays   100.000000\n",
       "tablet  Checkout    lost     76.245351\n",
       "                    stays    11.000000\n",
       "        Conversions lost     44.343991\n",
       "                    stays     6.000000\n",
       "        Shopping    lost     49.102366\n",
       "                    stays    50.897634\n",
       "        total       lost      0.000000\n",
       "                    stays   100.000000"
      ]
     },
     "execution_count": 9,
     "metadata": {},
     "output_type": "execute_result"
    }
   ],
   "source": [
    "final_df = pd.concat([dfg, df_desktop, df_mobile, df_tablet])\n",
    "final_df.groupby(by=[ 'device','steps', 'status']).sum()"
   ]
  },
  {
   "cell_type": "code",
   "execution_count": 12,
   "metadata": {
    "collapsed": false
   },
   "outputs": [
    {
     "data": {
      "image/png": "[encoded data removed]",
      "text/plain": [
       "<matplotlib.figure.Figure at 0x11f2c2dd0>"
      ]
     },
     "metadata": {},
     "output_type": "display_data"
    }
   ],
   "source": [
    "fig, axes = plt.subplots(nrows=2, ncols=2,figsize=(15,15))\n",
    "pp = dd.unstack().plot(ax=axes[0,0],kind='bar',stacked=True,  color=['#ACDBC9','#F48B94'], title=\"Global\", legend=False, edgecolor=\"none\")\n",
    "pp_d = dd_desktop.unstack().plot(ax=axes[0,1],kind='bar',stacked=True,  color=['#ACDBC9','#F48B94'], title=\"Desktop\", legend=False, edgecolor=\"none\")\n",
    "pp_m = dd_mobile.unstack().plot(ax=axes[1,0],kind='bar',stacked=True,  color=['#ACDBC9','#F48B94'], title=\"Mobile\", legend=False, edgecolor=\"none\")\n",
    "pp_t = dd_tablet.unstack().plot(ax=axes[1,1],kind='bar',stacked=True,  color=['#ACDBC9','#F48B94'], title=\"Tablet\", legend=False, edgecolor=\"none\")"
   ]
  },
  {
   "cell_type": "code",
   "execution_count": null,
   "metadata": {
    "collapsed": true
   },
   "outputs": [],
   "source": []
  }
 ],
 "metadata": {
  "kernelspec": {
   "display_name": "Python 2",
   "language": "python",
   "name": "python2"
  },
  "language_info": {
   "codemirror_mode": {
    "name": "ipython",
    "version": 2
   },
   "file_extension": ".py",
   "mimetype": "text/x-python",
   "name": "python",
   "nbconvert_exporter": "python",
   "pygments_lexer": "ipython2",
   "version": "2.7.11"
  }
 },
 "nbformat": 4,
 "nbformat_minor": 0
}
