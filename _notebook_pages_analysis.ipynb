{
 "cells": [
  {
   "cell_type": "code",
   "execution_count": 1,
   "metadata": {
    "collapsed": true
   },
   "outputs": [],
   "source": [
    "import ga_utils as g\n",
    "import pandas as pd\n",
    "import auth as auth\n",
    "import matplotlib\n",
    "import config as config\n",
    "import matplotlib.pyplot as plt\n",
    "import numpy as np\n",
    "import statsmodels.formula.api as smf\n",
    "%matplotlib inline"
   ]
  },
  {
   "cell_type": "code",
   "execution_count": 2,
   "metadata": {
    "collapsed": false
   },
   "outputs": [
    {
     "data": {
      "text/plain": [
       "<googleapiclient.discovery.Resource at 0x11a021190>"
      ]
     },
     "execution_count": 2,
     "metadata": {},
     "output_type": "execute_result"
    }
   ],
   "source": [
    "# launch auth process\n",
    "auth.main()"
   ]
  },
  {
   "cell_type": "code",
   "execution_count": 3,
   "metadata": {
    "collapsed": false
   },
   "outputs": [],
   "source": [
    "pageviews = g.get_all_pages(\"94275425\", start_date='2015-05-01', end_date='2016-05-20')\n",
    "\n",
    "\n",
    "pages = g.get_all_pageviews(\"94275425\", start_date='2015-05-01', end_date='2016-05-20')\n",
    "\n",
    "\n",
    "sessions = g.get_sessions(\"94275425\", start_date='2015-05-01', end_date='2016-05-20')\n",
    "\n",
    "transactions = g.get_transactions_by_day(\"94275425\", start_date='2015-05-01', end_date='2016-05-20')\n"
   ]
  },
  {
   "cell_type": "code",
   "execution_count": 29,
   "metadata": {
    "collapsed": false
   },
   "outputs": [],
   "source": [
    "df = pd.concat([pages.astype(int), transactions['ga:transactions'].astype(int), sessions['ga:sessions'].astype(int)], axis=1)"
   ]
  },
  {
   "cell_type": "code",
   "execution_count": 34,
   "metadata": {
    "collapsed": false
   },
   "outputs": [
    {
     "data": {
      "text/html": [
       "<div>\n",
       "<table border=\"1\" class=\"dataframe\">\n",
       "  <thead>\n",
       "    <tr style=\"text-align: right;\">\n",
       "      <th></th>\n",
       "      <th>date</th>\n",
       "      <th>pageviews</th>\n",
       "      <th>transactions</th>\n",
       "      <th>sessions</th>\n",
       "    </tr>\n",
       "  </thead>\n",
       "  <tbody>\n",
       "    <tr>\n",
       "      <th>143</th>\n",
       "      <td>20150921</td>\n",
       "      <td>51808</td>\n",
       "      <td>22</td>\n",
       "      <td>43080</td>\n",
       "    </tr>\n",
       "    <tr>\n",
       "      <th>308</th>\n",
       "      <td>20160304</td>\n",
       "      <td>46934</td>\n",
       "      <td>26</td>\n",
       "      <td>4145</td>\n",
       "    </tr>\n",
       "    <tr>\n",
       "      <th>309</th>\n",
       "      <td>20160305</td>\n",
       "      <td>45128</td>\n",
       "      <td>32</td>\n",
       "      <td>4396</td>\n",
       "    </tr>\n",
       "    <tr>\n",
       "      <th>310</th>\n",
       "      <td>20160306</td>\n",
       "      <td>40495</td>\n",
       "      <td>62</td>\n",
       "      <td>4343</td>\n",
       "    </tr>\n",
       "    <tr>\n",
       "      <th>316</th>\n",
       "      <td>20160312</td>\n",
       "      <td>37935</td>\n",
       "      <td>27</td>\n",
       "      <td>4465</td>\n",
       "    </tr>\n",
       "    <tr>\n",
       "      <th>156</th>\n",
       "      <td>20151004</td>\n",
       "      <td>36564</td>\n",
       "      <td>48</td>\n",
       "      <td>5426</td>\n",
       "    </tr>\n",
       "    <tr>\n",
       "      <th>144</th>\n",
       "      <td>20150922</td>\n",
       "      <td>34592</td>\n",
       "      <td>27</td>\n",
       "      <td>23314</td>\n",
       "    </tr>\n",
       "    <tr>\n",
       "      <th>317</th>\n",
       "      <td>20160313</td>\n",
       "      <td>32378</td>\n",
       "      <td>49</td>\n",
       "      <td>3942</td>\n",
       "    </tr>\n",
       "    <tr>\n",
       "      <th>323</th>\n",
       "      <td>20160319</td>\n",
       "      <td>31819</td>\n",
       "      <td>40</td>\n",
       "      <td>5109</td>\n",
       "    </tr>\n",
       "    <tr>\n",
       "      <th>315</th>\n",
       "      <td>20160311</td>\n",
       "      <td>30883</td>\n",
       "      <td>14</td>\n",
       "      <td>4320</td>\n",
       "    </tr>\n",
       "    <tr>\n",
       "      <th>321</th>\n",
       "      <td>20160317</td>\n",
       "      <td>28967</td>\n",
       "      <td>25</td>\n",
       "      <td>3808</td>\n",
       "    </tr>\n",
       "    <tr>\n",
       "      <th>313</th>\n",
       "      <td>20160309</td>\n",
       "      <td>27661</td>\n",
       "      <td>30</td>\n",
       "      <td>3688</td>\n",
       "    </tr>\n",
       "    <tr>\n",
       "      <th>319</th>\n",
       "      <td>20160315</td>\n",
       "      <td>27090</td>\n",
       "      <td>28</td>\n",
       "      <td>2889</td>\n",
       "    </tr>\n",
       "    <tr>\n",
       "      <th>325</th>\n",
       "      <td>20160321</td>\n",
       "      <td>25696</td>\n",
       "      <td>44</td>\n",
       "      <td>3402</td>\n",
       "    </tr>\n",
       "    <tr>\n",
       "      <th>324</th>\n",
       "      <td>20160320</td>\n",
       "      <td>25009</td>\n",
       "      <td>68</td>\n",
       "      <td>3800</td>\n",
       "    </tr>\n",
       "    <tr>\n",
       "      <th>153</th>\n",
       "      <td>20151001</td>\n",
       "      <td>24949</td>\n",
       "      <td>31</td>\n",
       "      <td>4167</td>\n",
       "    </tr>\n",
       "    <tr>\n",
       "      <th>311</th>\n",
       "      <td>20160307</td>\n",
       "      <td>24652</td>\n",
       "      <td>25</td>\n",
       "      <td>3715</td>\n",
       "    </tr>\n",
       "    <tr>\n",
       "      <th>320</th>\n",
       "      <td>20160316</td>\n",
       "      <td>24254</td>\n",
       "      <td>28</td>\n",
       "      <td>3508</td>\n",
       "    </tr>\n",
       "    <tr>\n",
       "      <th>155</th>\n",
       "      <td>20151003</td>\n",
       "      <td>24065</td>\n",
       "      <td>27</td>\n",
       "      <td>4115</td>\n",
       "    </tr>\n",
       "    <tr>\n",
       "      <th>154</th>\n",
       "      <td>20151002</td>\n",
       "      <td>23796</td>\n",
       "      <td>28</td>\n",
       "      <td>3935</td>\n",
       "    </tr>\n",
       "    <tr>\n",
       "      <th>318</th>\n",
       "      <td>20160314</td>\n",
       "      <td>23361</td>\n",
       "      <td>28</td>\n",
       "      <td>3083</td>\n",
       "    </tr>\n",
       "    <tr>\n",
       "      <th>322</th>\n",
       "      <td>20160318</td>\n",
       "      <td>22478</td>\n",
       "      <td>43</td>\n",
       "      <td>3172</td>\n",
       "    </tr>\n",
       "    <tr>\n",
       "      <th>62</th>\n",
       "      <td>20150702</td>\n",
       "      <td>22293</td>\n",
       "      <td>91</td>\n",
       "      <td>6966</td>\n",
       "    </tr>\n",
       "    <tr>\n",
       "      <th>157</th>\n",
       "      <td>20151005</td>\n",
       "      <td>22012</td>\n",
       "      <td>29</td>\n",
       "      <td>3772</td>\n",
       "    </tr>\n",
       "    <tr>\n",
       "      <th>149</th>\n",
       "      <td>20150927</td>\n",
       "      <td>20289</td>\n",
       "      <td>38</td>\n",
       "      <td>2721</td>\n",
       "    </tr>\n",
       "    <tr>\n",
       "      <th>312</th>\n",
       "      <td>20160308</td>\n",
       "      <td>19913</td>\n",
       "      <td>25</td>\n",
       "      <td>3236</td>\n",
       "    </tr>\n",
       "    <tr>\n",
       "      <th>152</th>\n",
       "      <td>20150930</td>\n",
       "      <td>19785</td>\n",
       "      <td>31</td>\n",
       "      <td>2959</td>\n",
       "    </tr>\n",
       "    <tr>\n",
       "      <th>151</th>\n",
       "      <td>20150929</td>\n",
       "      <td>19637</td>\n",
       "      <td>27</td>\n",
       "      <td>3253</td>\n",
       "    </tr>\n",
       "    <tr>\n",
       "      <th>326</th>\n",
       "      <td>20160322</td>\n",
       "      <td>19456</td>\n",
       "      <td>26</td>\n",
       "      <td>4628</td>\n",
       "    </tr>\n",
       "    <tr>\n",
       "      <th>228</th>\n",
       "      <td>20151215</td>\n",
       "      <td>18292</td>\n",
       "      <td>11</td>\n",
       "      <td>8417</td>\n",
       "    </tr>\n",
       "    <tr>\n",
       "      <th>...</th>\n",
       "      <td>...</td>\n",
       "      <td>...</td>\n",
       "      <td>...</td>\n",
       "      <td>...</td>\n",
       "    </tr>\n",
       "    <tr>\n",
       "      <th>9</th>\n",
       "      <td>20150510</td>\n",
       "      <td>4984</td>\n",
       "      <td>18</td>\n",
       "      <td>2831</td>\n",
       "    </tr>\n",
       "    <tr>\n",
       "      <th>382</th>\n",
       "      <td>20160517</td>\n",
       "      <td>4984</td>\n",
       "      <td>23</td>\n",
       "      <td>1516</td>\n",
       "    </tr>\n",
       "    <tr>\n",
       "      <th>7</th>\n",
       "      <td>20150508</td>\n",
       "      <td>4974</td>\n",
       "      <td>11</td>\n",
       "      <td>2645</td>\n",
       "    </tr>\n",
       "    <tr>\n",
       "      <th>371</th>\n",
       "      <td>20160506</td>\n",
       "      <td>4937</td>\n",
       "      <td>18</td>\n",
       "      <td>1681</td>\n",
       "    </tr>\n",
       "    <tr>\n",
       "      <th>39</th>\n",
       "      <td>20150609</td>\n",
       "      <td>4866</td>\n",
       "      <td>9</td>\n",
       "      <td>2305</td>\n",
       "    </tr>\n",
       "    <tr>\n",
       "      <th>57</th>\n",
       "      <td>20150627</td>\n",
       "      <td>4827</td>\n",
       "      <td>4</td>\n",
       "      <td>2220</td>\n",
       "    </tr>\n",
       "    <tr>\n",
       "      <th>8</th>\n",
       "      <td>20150509</td>\n",
       "      <td>4808</td>\n",
       "      <td>10</td>\n",
       "      <td>3391</td>\n",
       "    </tr>\n",
       "    <tr>\n",
       "      <th>42</th>\n",
       "      <td>20150612</td>\n",
       "      <td>4723</td>\n",
       "      <td>13</td>\n",
       "      <td>1832</td>\n",
       "    </tr>\n",
       "    <tr>\n",
       "      <th>13</th>\n",
       "      <td>20150514</td>\n",
       "      <td>4694</td>\n",
       "      <td>8</td>\n",
       "      <td>3420</td>\n",
       "    </tr>\n",
       "    <tr>\n",
       "      <th>3</th>\n",
       "      <td>20150504</td>\n",
       "      <td>4676</td>\n",
       "      <td>19</td>\n",
       "      <td>2161</td>\n",
       "    </tr>\n",
       "    <tr>\n",
       "      <th>199</th>\n",
       "      <td>20151116</td>\n",
       "      <td>4644</td>\n",
       "      <td>9</td>\n",
       "      <td>1981</td>\n",
       "    </tr>\n",
       "    <tr>\n",
       "      <th>372</th>\n",
       "      <td>20160507</td>\n",
       "      <td>4630</td>\n",
       "      <td>13</td>\n",
       "      <td>1545</td>\n",
       "    </tr>\n",
       "    <tr>\n",
       "      <th>41</th>\n",
       "      <td>20150611</td>\n",
       "      <td>4581</td>\n",
       "      <td>14</td>\n",
       "      <td>1897</td>\n",
       "    </tr>\n",
       "    <tr>\n",
       "      <th>383</th>\n",
       "      <td>20160518</td>\n",
       "      <td>4521</td>\n",
       "      <td>19</td>\n",
       "      <td>1439</td>\n",
       "    </tr>\n",
       "    <tr>\n",
       "      <th>10</th>\n",
       "      <td>20150511</td>\n",
       "      <td>4508</td>\n",
       "      <td>15</td>\n",
       "      <td>2612</td>\n",
       "    </tr>\n",
       "    <tr>\n",
       "      <th>43</th>\n",
       "      <td>20150613</td>\n",
       "      <td>4495</td>\n",
       "      <td>18</td>\n",
       "      <td>1621</td>\n",
       "    </tr>\n",
       "    <tr>\n",
       "      <th>38</th>\n",
       "      <td>20150608</td>\n",
       "      <td>4409</td>\n",
       "      <td>11</td>\n",
       "      <td>2199</td>\n",
       "    </tr>\n",
       "    <tr>\n",
       "      <th>384</th>\n",
       "      <td>20160519</td>\n",
       "      <td>4380</td>\n",
       "      <td>17</td>\n",
       "      <td>1395</td>\n",
       "    </tr>\n",
       "    <tr>\n",
       "      <th>6</th>\n",
       "      <td>20150507</td>\n",
       "      <td>4264</td>\n",
       "      <td>6</td>\n",
       "      <td>2129</td>\n",
       "    </tr>\n",
       "    <tr>\n",
       "      <th>35</th>\n",
       "      <td>20150605</td>\n",
       "      <td>4116</td>\n",
       "      <td>7</td>\n",
       "      <td>2636</td>\n",
       "    </tr>\n",
       "    <tr>\n",
       "      <th>139</th>\n",
       "      <td>20150917</td>\n",
       "      <td>4066</td>\n",
       "      <td>13</td>\n",
       "      <td>1686</td>\n",
       "    </tr>\n",
       "    <tr>\n",
       "      <th>16</th>\n",
       "      <td>20150517</td>\n",
       "      <td>4033</td>\n",
       "      <td>11</td>\n",
       "      <td>2178</td>\n",
       "    </tr>\n",
       "    <tr>\n",
       "      <th>12</th>\n",
       "      <td>20150513</td>\n",
       "      <td>3980</td>\n",
       "      <td>12</td>\n",
       "      <td>2339</td>\n",
       "    </tr>\n",
       "    <tr>\n",
       "      <th>11</th>\n",
       "      <td>20150512</td>\n",
       "      <td>3952</td>\n",
       "      <td>17</td>\n",
       "      <td>2145</td>\n",
       "    </tr>\n",
       "    <tr>\n",
       "      <th>15</th>\n",
       "      <td>20150516</td>\n",
       "      <td>3889</td>\n",
       "      <td>9</td>\n",
       "      <td>2465</td>\n",
       "    </tr>\n",
       "    <tr>\n",
       "      <th>14</th>\n",
       "      <td>20150515</td>\n",
       "      <td>3741</td>\n",
       "      <td>8</td>\n",
       "      <td>2755</td>\n",
       "    </tr>\n",
       "    <tr>\n",
       "      <th>17</th>\n",
       "      <td>20150518</td>\n",
       "      <td>3439</td>\n",
       "      <td>9</td>\n",
       "      <td>1772</td>\n",
       "    </tr>\n",
       "    <tr>\n",
       "      <th>36</th>\n",
       "      <td>20150606</td>\n",
       "      <td>3377</td>\n",
       "      <td>0</td>\n",
       "      <td>2617</td>\n",
       "    </tr>\n",
       "    <tr>\n",
       "      <th>37</th>\n",
       "      <td>20150607</td>\n",
       "      <td>3348</td>\n",
       "      <td>0</td>\n",
       "      <td>2183</td>\n",
       "    </tr>\n",
       "    <tr>\n",
       "      <th>385</th>\n",
       "      <td>20160520</td>\n",
       "      <td>2640</td>\n",
       "      <td>8</td>\n",
       "      <td>848</td>\n",
       "    </tr>\n",
       "  </tbody>\n",
       "</table>\n",
       "<p>383 rows × 4 columns</p>\n",
       "</div>"
      ],
      "text/plain": [
       "         date  pageviews  transactions  sessions\n",
       "143  20150921      51808            22     43080\n",
       "308  20160304      46934            26      4145\n",
       "309  20160305      45128            32      4396\n",
       "310  20160306      40495            62      4343\n",
       "316  20160312      37935            27      4465\n",
       "156  20151004      36564            48      5426\n",
       "144  20150922      34592            27     23314\n",
       "317  20160313      32378            49      3942\n",
       "323  20160319      31819            40      5109\n",
       "315  20160311      30883            14      4320\n",
       "321  20160317      28967            25      3808\n",
       "313  20160309      27661            30      3688\n",
       "319  20160315      27090            28      2889\n",
       "325  20160321      25696            44      3402\n",
       "324  20160320      25009            68      3800\n",
       "153  20151001      24949            31      4167\n",
       "311  20160307      24652            25      3715\n",
       "320  20160316      24254            28      3508\n",
       "155  20151003      24065            27      4115\n",
       "154  20151002      23796            28      3935\n",
       "318  20160314      23361            28      3083\n",
       "322  20160318      22478            43      3172\n",
       "62   20150702      22293            91      6966\n",
       "157  20151005      22012            29      3772\n",
       "149  20150927      20289            38      2721\n",
       "312  20160308      19913            25      3236\n",
       "152  20150930      19785            31      2959\n",
       "151  20150929      19637            27      3253\n",
       "326  20160322      19456            26      4628\n",
       "228  20151215      18292            11      8417\n",
       "..        ...        ...           ...       ...\n",
       "9    20150510       4984            18      2831\n",
       "382  20160517       4984            23      1516\n",
       "7    20150508       4974            11      2645\n",
       "371  20160506       4937            18      1681\n",
       "39   20150609       4866             9      2305\n",
       "57   20150627       4827             4      2220\n",
       "8    20150509       4808            10      3391\n",
       "42   20150612       4723            13      1832\n",
       "13   20150514       4694             8      3420\n",
       "3    20150504       4676            19      2161\n",
       "199  20151116       4644             9      1981\n",
       "372  20160507       4630            13      1545\n",
       "41   20150611       4581            14      1897\n",
       "383  20160518       4521            19      1439\n",
       "10   20150511       4508            15      2612\n",
       "43   20150613       4495            18      1621\n",
       "38   20150608       4409            11      2199\n",
       "384  20160519       4380            17      1395\n",
       "6    20150507       4264             6      2129\n",
       "35   20150605       4116             7      2636\n",
       "139  20150917       4066            13      1686\n",
       "16   20150517       4033            11      2178\n",
       "12   20150513       3980            12      2339\n",
       "11   20150512       3952            17      2145\n",
       "15   20150516       3889             9      2465\n",
       "14   20150515       3741             8      2755\n",
       "17   20150518       3439             9      1772\n",
       "36   20150606       3377             0      2617\n",
       "37   20150607       3348             0      2183\n",
       "385  20160520       2640             8       848\n",
       "\n",
       "[383 rows x 4 columns]"
      ]
     },
     "execution_count": 34,
     "metadata": {},
     "output_type": "execute_result"
    }
   ],
   "source": [
    "#pageviews['date'] = pd.to_datetime(pageviews['date'])\n",
    "df.rename(columns=lambda x: x.replace('ga:', ''), inplace=True)\n",
    "df = df[df.pageviews!=87293]\n",
    "df = df[df.pageviews!=122848]\n",
    "df = df[df.pageviews!=73522]\n",
    "df.sort_values(by='pageviews', ascending=False)"
   ]
  },
  {
   "cell_type": "code",
   "execution_count": 35,
   "metadata": {
    "collapsed": false
   },
   "outputs": [
    {
     "data": {
      "text/plain": [
       "<matplotlib.axes._subplots.AxesSubplot at 0x11e30c990>"
      ]
     },
     "execution_count": 35,
     "metadata": {},
     "output_type": "execute_result"
    },
    {
     "data": {
      "image/png": "[encoded data removed]",
      "text/plain": [
       "<matplotlib.figure.Figure at 0x11df346d0>"
      ]
     },
     "metadata": {},
     "output_type": "display_data"
    }
   ],
   "source": [
    "fig, axs = plt.subplots(1, 2, sharey=True)\n",
    "df.plot(kind=\"scatter\", x=\"pageviews\", y='transactions', ax=axs[0], figsize=(16, 8))\n",
    "df.plot(kind=\"scatter\", x=\"sessions\", y='transactions', ax=axs[1], figsize=(16, 8))"
   ]
  },
  {
   "cell_type": "code",
   "execution_count": 36,
   "metadata": {
    "collapsed": false
   },
   "outputs": [],
   "source": [
    "lm = smf.ols(formula='transactions ~ pageviews', data=df).fit()"
   ]
  },
  {
   "cell_type": "code",
   "execution_count": 37,
   "metadata": {
    "collapsed": false
   },
   "outputs": [
    {
     "data": {
      "text/plain": [
       "Intercept    12.782877\n",
       "pageviews     0.000734\n",
       "dtype: float64"
      ]
     },
     "execution_count": 37,
     "metadata": {},
     "output_type": "execute_result"
    }
   ],
   "source": [
    "lm.params"
   ]
  },
  {
   "cell_type": "code",
   "execution_count": 38,
   "metadata": {
    "collapsed": false
   },
   "outputs": [
    {
     "data": {
      "text/plain": [
       "12.819569426260056"
      ]
     },
     "execution_count": 38,
     "metadata": {},
     "output_type": "execute_result"
    }
   ],
   "source": [
    "lm.params[0] + lm.params[1]*50"
   ]
  },
  {
   "cell_type": "code",
   "execution_count": 39,
   "metadata": {
    "collapsed": false
   },
   "outputs": [
    {
     "data": {
      "text/html": [
       "<div>\n",
       "<table border=\"1\" class=\"dataframe\">\n",
       "  <thead>\n",
       "    <tr style=\"text-align: right;\">\n",
       "      <th></th>\n",
       "      <th>pageviews</th>\n",
       "    </tr>\n",
       "  </thead>\n",
       "  <tbody>\n",
       "    <tr>\n",
       "      <th>0</th>\n",
       "      <td>2640</td>\n",
       "    </tr>\n",
       "    <tr>\n",
       "      <th>1</th>\n",
       "      <td>51808</td>\n",
       "    </tr>\n",
       "  </tbody>\n",
       "</table>\n",
       "</div>"
      ],
      "text/plain": [
       "   pageviews\n",
       "0       2640\n",
       "1      51808"
      ]
     },
     "execution_count": 39,
     "metadata": {},
     "output_type": "execute_result"
    }
   ],
   "source": [
    "X_new = pd.DataFrame({'pageviews':[df['pageviews'].min(), df['pageviews'].max()]})\n",
    "X_new.head()"
   ]
  },
  {
   "cell_type": "code",
   "execution_count": 40,
   "metadata": {
    "collapsed": false
   },
   "outputs": [
    {
     "data": {
      "text/plain": [
       "array([ 14.7202616 ,  50.80259094])"
      ]
     },
     "execution_count": 40,
     "metadata": {},
     "output_type": "execute_result"
    }
   ],
   "source": [
    "preds = lm.predict(X_new)\n",
    "preds"
   ]
  },
  {
   "cell_type": "code",
   "execution_count": 41,
   "metadata": {
    "collapsed": false
   },
   "outputs": [
    {
     "data": {
      "text/plain": [
       "[<matplotlib.lines.Line2D at 0x11e3904d0>]"
      ]
     },
     "execution_count": 41,
     "metadata": {},
     "output_type": "execute_result"
    },
    {
     "data": {
      "image/png": "[encoded data removed]",
      "text/plain": [
       "<matplotlib.figure.Figure at 0x11e3903d0>"
      ]
     },
     "metadata": {},
     "output_type": "display_data"
    }
   ],
   "source": [
    "df.plot(kind=\"scatter\", x=\"pageviews\", y='transactions', color=g.colours['blue'])\n",
    "plt.plot(X_new, preds,linewidth=2, color = g.colours['red'])"
   ]
  },
  {
   "cell_type": "code",
   "execution_count": 42,
   "metadata": {
    "collapsed": false
   },
   "outputs": [
    {
     "data": {
      "text/html": [
       "<div>\n",
       "<table border=\"1\" class=\"dataframe\">\n",
       "  <thead>\n",
       "    <tr style=\"text-align: right;\">\n",
       "      <th></th>\n",
       "      <th>0</th>\n",
       "      <th>1</th>\n",
       "    </tr>\n",
       "  </thead>\n",
       "  <tbody>\n",
       "    <tr>\n",
       "      <th>Intercept</th>\n",
       "      <td>10.618107</td>\n",
       "      <td>14.947646</td>\n",
       "    </tr>\n",
       "    <tr>\n",
       "      <th>pageviews</th>\n",
       "      <td>0.000553</td>\n",
       "      <td>0.000915</td>\n",
       "    </tr>\n",
       "  </tbody>\n",
       "</table>\n",
       "</div>"
      ],
      "text/plain": [
       "                   0          1\n",
       "Intercept  10.618107  14.947646\n",
       "pageviews   0.000553   0.000915"
      ]
     },
     "execution_count": 42,
     "metadata": {},
     "output_type": "execute_result"
    }
   ],
   "source": [
    "lm.conf_int()"
   ]
  },
  {
   "cell_type": "code",
   "execution_count": 43,
   "metadata": {
    "collapsed": false
   },
   "outputs": [
    {
     "data": {
      "text/plain": [
       "Intercept    6.882779e-27\n",
       "pageviews    1.817306e-14\n",
       "dtype: float64"
      ]
     },
     "execution_count": 43,
     "metadata": {},
     "output_type": "execute_result"
    }
   ],
   "source": [
    "lm.pvalues"
   ]
  },
  {
   "cell_type": "code",
   "execution_count": 44,
   "metadata": {
    "collapsed": false
   },
   "outputs": [
    {
     "data": {
      "text/plain": [
       "0.14300401522255457"
      ]
     },
     "execution_count": 44,
     "metadata": {},
     "output_type": "execute_result"
    }
   ],
   "source": [
    "lm.rsquared"
   ]
  },
  {
   "cell_type": "code",
   "execution_count": 45,
   "metadata": {
    "collapsed": false
   },
   "outputs": [
    {
     "data": {
      "text/plain": [
       "Intercept    14.100595\n",
       "sessions     -0.000885\n",
       "pageviews     0.000931\n",
       "dtype: float64"
      ]
     },
     "execution_count": 45,
     "metadata": {},
     "output_type": "execute_result"
    }
   ],
   "source": [
    "lm_multi = smf.ols(formula='transactions ~ sessions + pageviews', data=df).fit()\n",
    "\n",
    "lm_multi.params"
   ]
  }
 ],
 "metadata": {
  "kernelspec": {
   "display_name": "Python 2",
   "language": "python",
   "name": "python2"
  },
  "language_info": {
   "codemirror_mode": {
    "name": "ipython",
    "version": 2
   },
   "file_extension": ".py",
   "mimetype": "text/x-python",
   "name": "python",
   "nbconvert_exporter": "python",
   "pygments_lexer": "ipython2",
   "version": "2.7.11"
  }
 },
 "nbformat": 4,
 "nbformat_minor": 0
}
