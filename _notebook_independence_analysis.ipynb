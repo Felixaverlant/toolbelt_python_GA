{
 "cells": [
  {
   "cell_type": "markdown",
   "metadata": {
    "collapsed": false
   },
   "source": [
    "# independence analysis based on product"
   ]
  },
  {
   "cell_type": "code",
   "execution_count": 1,
   "metadata": {
    "collapsed": true
   },
   "outputs": [],
   "source": [
    "import ga_utils as g\n",
    "import pandas as pd\n",
    "import auth as auth\n",
    "import matplotlib\n",
    "from ggplot import *\n",
    "import config as config\n",
    "%matplotlib inline"
   ]
  },
  {
   "cell_type": "code",
   "execution_count": 2,
   "metadata": {
    "collapsed": true
   },
   "outputs": [],
   "source": [
    "# ggplot required if products have special characters.\n",
    "import sys\n",
    "reload(sys)\n",
    "sys.setdefaultencoding('utf-8')"
   ]
  },
  {
   "cell_type": "code",
   "execution_count": 3,
   "metadata": {
    "collapsed": false
   },
   "outputs": [
    {
     "data": {
      "text/plain": [
       "<googleapiclient.discovery.Resource at 0x11d34cdd0>"
      ]
     },
     "execution_count": 3,
     "metadata": {},
     "output_type": "execute_result"
    }
   ],
   "source": [
    "# launch auth process\n",
    "auth.main()"
   ]
  },
  {
   "cell_type": "code",
   "execution_count": 4,
   "metadata": {
    "collapsed": false
   },
   "outputs": [
    {
     "data": {
      "text/html": [
       "<div>\n",
       "<table border=\"1\" class=\"dataframe\">\n",
       "  <thead>\n",
       "    <tr style=\"text-align: right;\">\n",
       "      <th></th>\n",
       "      <th>id</th>\n",
       "      <th>name</th>\n",
       "    </tr>\n",
       "  </thead>\n",
       "  <tbody>\n",
       "    <tr>\n",
       "      <th>0</th>\n",
       "      <td>12669588</td>\n",
       "      <td>www.felixaverlant.com</td>\n",
       "    </tr>\n",
       "    <tr>\n",
       "      <th>1</th>\n",
       "      <td>21801758</td>\n",
       "      <td>www.warnerbros.fr</td>\n",
       "    </tr>\n",
       "    <tr>\n",
       "      <th>2</th>\n",
       "      <td>33926345</td>\n",
       "      <td>Testing</td>\n",
       "    </tr>\n",
       "    <tr>\n",
       "      <th>3</th>\n",
       "      <td>36750385</td>\n",
       "      <td>Last Metro</td>\n",
       "    </tr>\n",
       "    <tr>\n",
       "      <th>4</th>\n",
       "      <td>56306116</td>\n",
       "      <td>warnerbros</td>\n",
       "    </tr>\n",
       "  </tbody>\n",
       "</table>\n",
       "</div>"
      ],
      "text/plain": [
       "         id                   name\n",
       "0  12669588  www.felixaverlant.com\n",
       "1  21801758      www.warnerbros.fr\n",
       "2  33926345                Testing\n",
       "3  36750385             Last Metro\n",
       "4  56306116             warnerbros"
      ]
     },
     "execution_count": 4,
     "metadata": {},
     "output_type": "execute_result"
    }
   ],
   "source": [
    "g.list_accounts()"
   ]
  },
  {
   "cell_type": "code",
   "execution_count": 5,
   "metadata": {
    "collapsed": false
   },
   "outputs": [
    {
     "data": {
      "text/html": [
       "<div>\n",
       "<table border=\"1\" class=\"dataframe\">\n",
       "  <thead>\n",
       "    <tr style=\"text-align: right;\">\n",
       "      <th></th>\n",
       "      <th>accountId</th>\n",
       "      <th>id</th>\n",
       "      <th>name</th>\n",
       "    </tr>\n",
       "  </thead>\n",
       "  <tbody>\n",
       "    <tr>\n",
       "      <th>0</th>\n",
       "      <td>56306116</td>\n",
       "      <td>UA-56306116-1</td>\n",
       "      <td>dev.warnerbros.fr</td>\n",
       "    </tr>\n",
       "    <tr>\n",
       "      <th>1</th>\n",
       "      <td>56306116</td>\n",
       "      <td>UA-56306116-2</td>\n",
       "      <td>preprod.warnerbros.fr</td>\n",
       "    </tr>\n",
       "    <tr>\n",
       "      <th>2</th>\n",
       "      <td>56306116</td>\n",
       "      <td>UA-56306116-3</td>\n",
       "      <td>warnerbros</td>\n",
       "    </tr>\n",
       "    <tr>\n",
       "      <th>3</th>\n",
       "      <td>56306116</td>\n",
       "      <td>UA-56306116-4</td>\n",
       "      <td>preprod newsroom.warnerbros.fr</td>\n",
       "    </tr>\n",
       "    <tr>\n",
       "      <th>4</th>\n",
       "      <td>56306116</td>\n",
       "      <td>UA-56306116-5</td>\n",
       "      <td>prod Newsroom</td>\n",
       "    </tr>\n",
       "  </tbody>\n",
       "</table>\n",
       "</div>"
      ],
      "text/plain": [
       "   accountId             id                            name\n",
       "0   56306116  UA-56306116-1               dev.warnerbros.fr\n",
       "1   56306116  UA-56306116-2           preprod.warnerbros.fr\n",
       "2   56306116  UA-56306116-3                      warnerbros\n",
       "3   56306116  UA-56306116-4  preprod newsroom.warnerbros.fr\n",
       "4   56306116  UA-56306116-5                   prod Newsroom"
      ]
     },
     "execution_count": 5,
     "metadata": {},
     "output_type": "execute_result"
    }
   ],
   "source": [
    "g.list_properties(config.property)"
   ]
  },
  {
   "cell_type": "code",
   "execution_count": 6,
   "metadata": {
    "collapsed": false
   },
   "outputs": [
    {
     "data": {
      "text/html": [
       "<div>\n",
       "<table border=\"1\" class=\"dataframe\">\n",
       "  <thead>\n",
       "    <tr style=\"text-align: right;\">\n",
       "      <th></th>\n",
       "      <th>accountId</th>\n",
       "      <th>id</th>\n",
       "      <th>name</th>\n",
       "    </tr>\n",
       "  </thead>\n",
       "  <tbody>\n",
       "    <tr>\n",
       "      <th>0</th>\n",
       "      <td>56306116</td>\n",
       "      <td>94275425</td>\n",
       "      <td>All Web Site Data</td>\n",
       "    </tr>\n",
       "    <tr>\n",
       "      <th>1</th>\n",
       "      <td>56306116</td>\n",
       "      <td>102852585</td>\n",
       "      <td>account.warnerbros.fr</td>\n",
       "    </tr>\n",
       "    <tr>\n",
       "      <th>2</th>\n",
       "      <td>56306116</td>\n",
       "      <td>102854865</td>\n",
       "      <td>www.warnerbros.fr</td>\n",
       "    </tr>\n",
       "    <tr>\n",
       "      <th>3</th>\n",
       "      <td>56306116</td>\n",
       "      <td>103773786</td>\n",
       "      <td>Player</td>\n",
       "    </tr>\n",
       "    <tr>\n",
       "      <th>4</th>\n",
       "      <td>56306116</td>\n",
       "      <td>117117062</td>\n",
       "      <td>Batman v Superman</td>\n",
       "    </tr>\n",
       "  </tbody>\n",
       "</table>\n",
       "</div>"
      ],
      "text/plain": [
       "   accountId         id                   name\n",
       "0   56306116   94275425      All Web Site Data\n",
       "1   56306116  102852585  account.warnerbros.fr\n",
       "2   56306116  102854865      www.warnerbros.fr\n",
       "3   56306116  103773786                 Player\n",
       "4   56306116  117117062      Batman v Superman"
      ]
     },
     "execution_count": 6,
     "metadata": {},
     "output_type": "execute_result"
    }
   ],
   "source": [
    "g.list_profiles(config.property,config.ua)"
   ]
  },
  {
   "cell_type": "code",
   "execution_count": 7,
   "metadata": {
    "collapsed": false
   },
   "outputs": [],
   "source": [
    "df = g.get_transactions(config.profile_id, start_date='2016-01-01', end_date='2016-05-20')"
   ]
  },
  {
   "cell_type": "code",
   "execution_count": 8,
   "metadata": {
    "collapsed": false
   },
   "outputs": [],
   "source": [
    "df['count'] = 1\n",
    "left = df.set_index('ga:transactionId')\n",
    "right = left\n",
    "df_product_comb = left.join(right, lsuffix='_l', rsuffix='_r')\n",
    "df_product_comb_filtered = df_product_comb[df_product_comb['ga:productName_l'] < df_product_comb['ga:productName_r']]"
   ]
  },
  {
   "cell_type": "code",
   "execution_count": 9,
   "metadata": {
    "collapsed": false
   },
   "outputs": [],
   "source": [
    "product_cluster = df_product_comb_filtered.groupby([df_product_comb_filtered['ga:productName_l'], df_product_comb_filtered['ga:productName_r']]).sum()\n",
    "product_cluster = product_cluster.drop('count_r', axis=1)\n",
    "product_cluster = product_cluster.reset_index()"
   ]
  },
  {
   "cell_type": "code",
   "execution_count": 10,
   "metadata": {
    "collapsed": false
   },
   "outputs": [
    {
     "data": {
      "text/plain": [
       "239"
      ]
     },
     "execution_count": 10,
     "metadata": {},
     "output_type": "execute_result"
    }
   ],
   "source": [
    "# Check if ok. Should be same number\n",
    "df_product_comb['count_l'].sum()\n",
    "product_cluster['count_l'].sum()"
   ]
  },
  {
   "cell_type": "code",
   "execution_count": 11,
   "metadata": {
    "collapsed": false
   },
   "outputs": [
    {
     "data": {
      "text/html": [
       "<div>\n",
       "<table border=\"1\" class=\"dataframe\">\n",
       "  <thead>\n",
       "    <tr style=\"text-align: right;\">\n",
       "      <th></th>\n",
       "      <th>transactions</th>\n",
       "    </tr>\n",
       "    <tr>\n",
       "      <th>ga:productName</th>\n",
       "      <th></th>\n",
       "    </tr>\n",
       "  </thead>\n",
       "  <tbody>\n",
       "    <tr>\n",
       "      <th>Cabal</th>\n",
       "      <td>1</td>\n",
       "    </tr>\n",
       "    <tr>\n",
       "      <th>La Femme Rêvée</th>\n",
       "      <td>1</td>\n",
       "    </tr>\n",
       "    <tr>\n",
       "      <th>Les poupées du Diable</th>\n",
       "      <td>1</td>\n",
       "    </tr>\n",
       "    <tr>\n",
       "      <th>Studio Tour - Ticket Adulte</th>\n",
       "      <td>685</td>\n",
       "    </tr>\n",
       "    <tr>\n",
       "      <th>Studio Tour - Ticket Bébé</th>\n",
       "      <td>4</td>\n",
       "    </tr>\n",
       "    <tr>\n",
       "      <th>Studio Tour - Ticket Enfant</th>\n",
       "      <td>5</td>\n",
       "    </tr>\n",
       "    <tr>\n",
       "      <th>Studio Tour - Ticket Famille</th>\n",
       "      <td>101</td>\n",
       "    </tr>\n",
       "    <tr>\n",
       "      <th>Studio Tour - Ticket Jeune</th>\n",
       "      <td>202</td>\n",
       "    </tr>\n",
       "  </tbody>\n",
       "</table>\n",
       "</div>"
      ],
      "text/plain": [
       "                              transactions\n",
       "ga:productName                            \n",
       "Cabal                                    1\n",
       "La Femme Rêvée                           1\n",
       "Les poupées du Diable                    1\n",
       "Studio Tour - Ticket Adulte            685\n",
       "Studio Tour - Ticket Bébé                4\n",
       "Studio Tour - Ticket Enfant              5\n",
       "Studio Tour - Ticket Famille           101\n",
       "Studio Tour - Ticket Jeune             202"
      ]
     },
     "execution_count": 11,
     "metadata": {},
     "output_type": "execute_result"
    }
   ],
   "source": [
    "transactions_by_product = df.groupby(['ga:productName']).sum()\n",
    "transactions_by_product.columns = ['transactions']\n",
    "transactions_by_product"
   ]
  },
  {
   "cell_type": "code",
   "execution_count": 12,
   "metadata": {
    "collapsed": false
   },
   "outputs": [
    {
     "data": {
      "text/plain": [
       "1000"
      ]
     },
     "execution_count": 12,
     "metadata": {},
     "output_type": "execute_result"
    }
   ],
   "source": [
    "total_transactions = pd.to_numeric(df['count']).sum()\n",
    "total_transactions"
   ]
  },
  {
   "cell_type": "code",
   "execution_count": 13,
   "metadata": {
    "collapsed": false
   },
   "outputs": [],
   "source": [
    "pc = product_cluster.join(transactions_by_product['transactions'], how='left', on='ga:productName_l', rsuffix='_tot')\n",
    "pc = pc.join(transactions_by_product['transactions'], how='left', on='ga:productName_r', rsuffix='_r')"
   ]
  },
  {
   "cell_type": "code",
   "execution_count": 14,
   "metadata": {
    "collapsed": false
   },
   "outputs": [],
   "source": [
    "pc['p_achat_l'] = pc['transactions'] / total_transactions\n",
    "pc['p_achat_r'] = pc['transactions_r'] / total_transactions\n",
    "pc['p_r_x_l'] = pc['p_achat_l'] * pc['p_achat_r']\n",
    "pc['prob_observed'] = pc['count_l'] / total_transactions\n",
    "pc['lift'] = pc['prob_observed'] / pc['p_r_x_l']"
   ]
  },
  {
   "cell_type": "code",
   "execution_count": 15,
   "metadata": {
    "collapsed": false
   },
   "outputs": [
    {
     "data": {
      "text/html": [
       "<div>\n",
       "<table border=\"1\" class=\"dataframe\">\n",
       "  <thead>\n",
       "    <tr style=\"text-align: right;\">\n",
       "      <th></th>\n",
       "      <th>ga:productName_l</th>\n",
       "      <th>ga:productName_r</th>\n",
       "      <th>count_l</th>\n",
       "      <th>transactions</th>\n",
       "      <th>transactions_r</th>\n",
       "      <th>p_achat_l</th>\n",
       "      <th>p_achat_r</th>\n",
       "      <th>p_r_x_l</th>\n",
       "      <th>prob_observed</th>\n",
       "      <th>lift</th>\n",
       "    </tr>\n",
       "  </thead>\n",
       "  <tbody>\n",
       "    <tr>\n",
       "      <th>6</th>\n",
       "      <td>Studio Tour - Ticket Enfant</td>\n",
       "      <td>Studio Tour - Ticket Famille</td>\n",
       "      <td>2</td>\n",
       "      <td>5</td>\n",
       "      <td>101</td>\n",
       "      <td>0.005</td>\n",
       "      <td>0.101</td>\n",
       "      <td>0.000505</td>\n",
       "      <td>0.002</td>\n",
       "      <td>3.960396</td>\n",
       "    </tr>\n",
       "    <tr>\n",
       "      <th>4</th>\n",
       "      <td>Studio Tour - Ticket Bébé</td>\n",
       "      <td>Studio Tour - Ticket Famille</td>\n",
       "      <td>1</td>\n",
       "      <td>4</td>\n",
       "      <td>101</td>\n",
       "      <td>0.004</td>\n",
       "      <td>0.101</td>\n",
       "      <td>0.000404</td>\n",
       "      <td>0.001</td>\n",
       "      <td>2.475248</td>\n",
       "    </tr>\n",
       "    <tr>\n",
       "      <th>5</th>\n",
       "      <td>Studio Tour - Ticket Bébé</td>\n",
       "      <td>Studio Tour - Ticket Jeune</td>\n",
       "      <td>2</td>\n",
       "      <td>4</td>\n",
       "      <td>202</td>\n",
       "      <td>0.004</td>\n",
       "      <td>0.202</td>\n",
       "      <td>0.000808</td>\n",
       "      <td>0.002</td>\n",
       "      <td>2.475248</td>\n",
       "    </tr>\n",
       "    <tr>\n",
       "      <th>7</th>\n",
       "      <td>Studio Tour - Ticket Enfant</td>\n",
       "      <td>Studio Tour - Ticket Jeune</td>\n",
       "      <td>2</td>\n",
       "      <td>5</td>\n",
       "      <td>202</td>\n",
       "      <td>0.005</td>\n",
       "      <td>0.202</td>\n",
       "      <td>0.001010</td>\n",
       "      <td>0.002</td>\n",
       "      <td>1.980198</td>\n",
       "    </tr>\n",
       "    <tr>\n",
       "      <th>3</th>\n",
       "      <td>Studio Tour - Ticket Adulte</td>\n",
       "      <td>Studio Tour - Ticket Jeune</td>\n",
       "      <td>194</td>\n",
       "      <td>685</td>\n",
       "      <td>202</td>\n",
       "      <td>0.685</td>\n",
       "      <td>0.202</td>\n",
       "      <td>0.138370</td>\n",
       "      <td>0.194</td>\n",
       "      <td>1.402038</td>\n",
       "    </tr>\n",
       "    <tr>\n",
       "      <th>1</th>\n",
       "      <td>Studio Tour - Ticket Adulte</td>\n",
       "      <td>Studio Tour - Ticket Enfant</td>\n",
       "      <td>4</td>\n",
       "      <td>685</td>\n",
       "      <td>5</td>\n",
       "      <td>0.685</td>\n",
       "      <td>0.005</td>\n",
       "      <td>0.003425</td>\n",
       "      <td>0.004</td>\n",
       "      <td>1.167883</td>\n",
       "    </tr>\n",
       "    <tr>\n",
       "      <th>0</th>\n",
       "      <td>Studio Tour - Ticket Adulte</td>\n",
       "      <td>Studio Tour - Ticket Bébé</td>\n",
       "      <td>3</td>\n",
       "      <td>685</td>\n",
       "      <td>4</td>\n",
       "      <td>0.685</td>\n",
       "      <td>0.004</td>\n",
       "      <td>0.002740</td>\n",
       "      <td>0.003</td>\n",
       "      <td>1.094891</td>\n",
       "    </tr>\n",
       "    <tr>\n",
       "      <th>8</th>\n",
       "      <td>Studio Tour - Ticket Famille</td>\n",
       "      <td>Studio Tour - Ticket Jeune</td>\n",
       "      <td>13</td>\n",
       "      <td>101</td>\n",
       "      <td>202</td>\n",
       "      <td>0.101</td>\n",
       "      <td>0.202</td>\n",
       "      <td>0.020402</td>\n",
       "      <td>0.013</td>\n",
       "      <td>0.637192</td>\n",
       "    </tr>\n",
       "    <tr>\n",
       "      <th>2</th>\n",
       "      <td>Studio Tour - Ticket Adulte</td>\n",
       "      <td>Studio Tour - Ticket Famille</td>\n",
       "      <td>18</td>\n",
       "      <td>685</td>\n",
       "      <td>101</td>\n",
       "      <td>0.685</td>\n",
       "      <td>0.101</td>\n",
       "      <td>0.069185</td>\n",
       "      <td>0.018</td>\n",
       "      <td>0.260172</td>\n",
       "    </tr>\n",
       "  </tbody>\n",
       "</table>\n",
       "</div>"
      ],
      "text/plain": [
       "               ga:productName_l              ga:productName_r  count_l  \\\n",
       "6   Studio Tour - Ticket Enfant  Studio Tour - Ticket Famille        2   \n",
       "4     Studio Tour - Ticket Bébé  Studio Tour - Ticket Famille        1   \n",
       "5     Studio Tour - Ticket Bébé    Studio Tour - Ticket Jeune        2   \n",
       "7   Studio Tour - Ticket Enfant    Studio Tour - Ticket Jeune        2   \n",
       "3   Studio Tour - Ticket Adulte    Studio Tour - Ticket Jeune      194   \n",
       "1   Studio Tour - Ticket Adulte   Studio Tour - Ticket Enfant        4   \n",
       "0   Studio Tour - Ticket Adulte     Studio Tour - Ticket Bébé        3   \n",
       "8  Studio Tour - Ticket Famille    Studio Tour - Ticket Jeune       13   \n",
       "2   Studio Tour - Ticket Adulte  Studio Tour - Ticket Famille       18   \n",
       "\n",
       "   transactions  transactions_r  p_achat_l  p_achat_r   p_r_x_l  \\\n",
       "6             5             101      0.005      0.101  0.000505   \n",
       "4             4             101      0.004      0.101  0.000404   \n",
       "5             4             202      0.004      0.202  0.000808   \n",
       "7             5             202      0.005      0.202  0.001010   \n",
       "3           685             202      0.685      0.202  0.138370   \n",
       "1           685               5      0.685      0.005  0.003425   \n",
       "0           685               4      0.685      0.004  0.002740   \n",
       "8           101             202      0.101      0.202  0.020402   \n",
       "2           685             101      0.685      0.101  0.069185   \n",
       "\n",
       "   prob_observed      lift  \n",
       "6          0.002  3.960396  \n",
       "4          0.001  2.475248  \n",
       "5          0.002  2.475248  \n",
       "7          0.002  1.980198  \n",
       "3          0.194  1.402038  \n",
       "1          0.004  1.167883  \n",
       "0          0.003  1.094891  \n",
       "8          0.013  0.637192  \n",
       "2          0.018  0.260172  "
      ]
     },
     "execution_count": 15,
     "metadata": {},
     "output_type": "execute_result"
    }
   ],
   "source": [
    "pc.sort_values(by='lift', ascending=False)"
   ]
  },
  {
   "cell_type": "code",
   "execution_count": 19,
   "metadata": {
    "collapsed": false
   },
   "outputs": [
    {
     "data": {
      "image/png": "[encoded data removed]",
      "text/plain": [
       "<matplotlib.figure.Figure at 0x11e013450>"
      ]
     },
     "metadata": {},
     "output_type": "display_data"
    },
    {
     "data": {
      "text/plain": [
       "<ggplot: (299940081)>"
      ]
     },
     "execution_count": 19,
     "metadata": {},
     "output_type": "execute_result"
    }
   ],
   "source": [
    "ggplot(aes(x='lift', y='transactions_r', colour='ga:productName_l', size='lift'), data=pc) + geom_point() + theme_matplotlib(rc={\"figure.figsize\": \"11,15\", \"legend.loc\": \"lower center\"}, matplotlib_defaults=False)"
   ]
  },
  {
   "cell_type": "code",
   "execution_count": 20,
   "metadata": {
    "collapsed": false
   },
   "outputs": [
    {
     "data": {
      "application/javascript": [
       "\n",
       "           window.pc={\"ga:productName_l\":{\"0\":\"Studio Tour - Ticket Adulte\",\"1\":\"Studio Tour - Ticket Adulte\",\"2\":\"Studio Tour - Ticket Adulte\",\"3\":\"Studio Tour - Ticket Adulte\",\"4\":\"Studio Tour - Ticket B\\u00e9b\\u00e9\",\"5\":\"Studio Tour - Ticket B\\u00e9b\\u00e9\",\"6\":\"Studio Tour - Ticket Enfant\",\"7\":\"Studio Tour - Ticket Enfant\",\"8\":\"Studio Tour - Ticket Famille\"},\"ga:productName_r\":{\"0\":\"Studio Tour - Ticket B\\u00e9b\\u00e9\",\"1\":\"Studio Tour - Ticket Enfant\",\"2\":\"Studio Tour - Ticket Famille\",\"3\":\"Studio Tour - Ticket Jeune\",\"4\":\"Studio Tour - Ticket Famille\",\"5\":\"Studio Tour - Ticket Jeune\",\"6\":\"Studio Tour - Ticket Famille\",\"7\":\"Studio Tour - Ticket Jeune\",\"8\":\"Studio Tour - Ticket Jeune\"},\"count_l\":{\"0\":3,\"1\":4,\"2\":18,\"3\":194,\"4\":1,\"5\":2,\"6\":2,\"7\":2,\"8\":13},\"transactions\":{\"0\":685,\"1\":685,\"2\":685,\"3\":685,\"4\":4,\"5\":4,\"6\":5,\"7\":5,\"8\":101},\"transactions_r\":{\"0\":4,\"1\":5,\"2\":101,\"3\":202,\"4\":101,\"5\":202,\"6\":101,\"7\":202,\"8\":202},\"p_achat_l\":{\"0\":0.685,\"1\":0.685,\"2\":0.685,\"3\":0.685,\"4\":0.004,\"5\":0.004,\"6\":0.005,\"7\":0.005,\"8\":0.101},\"p_achat_r\":{\"0\":0.004,\"1\":0.005,\"2\":0.101,\"3\":0.202,\"4\":0.101,\"5\":0.202,\"6\":0.101,\"7\":0.202,\"8\":0.202},\"p_r_x_l\":{\"0\":0.00274,\"1\":0.003425,\"2\":0.069185,\"3\":0.13837,\"4\":0.000404,\"5\":0.000808,\"6\":0.000505,\"7\":0.00101,\"8\":0.020402},\"prob_observed\":{\"0\":0.003,\"1\":0.004,\"2\":0.018,\"3\":0.194,\"4\":0.001,\"5\":0.002,\"6\":0.002,\"7\":0.002,\"8\":0.013},\"lift\":{\"0\":1.0948905109,\"1\":1.1678832117,\"2\":0.2601720026,\"3\":1.402038014,\"4\":2.4752475248,\"5\":2.4752475248,\"6\":3.9603960396,\"7\":1.9801980198,\"8\":0.6371924321}};\n",
       "           "
      ],
      "text/plain": [
       "<IPython.core.display.Javascript object>"
      ]
     },
     "execution_count": 20,
     "metadata": {},
     "output_type": "execute_result"
    }
   ],
   "source": [
    "from IPython.display import Javascript\n",
    "Javascript(\"\"\"\n",
    "           window.pc={};\n",
    "           \"\"\".format(pc.to_json()))"
   ]
  },
  {
   "cell_type": "code",
   "execution_count": 21,
   "metadata": {
    "collapsed": false
   },
   "outputs": [
    {
     "data": {
      "application/javascript": [
       "\n",
       "/*\n",
       " * As it turns out, pandas returns a dictionary with \n",
       " * the top-level keys as the column headers, and values\n",
       " * as the list of values under that column.\n",
       " * I'd recommend looking yourself.\n",
       " * This function, in JS, converts to what D3 wants.\n",
       " * Of course we could also easily do this on the python side.\n",
       " */\n",
       "function convertData(data){\n",
       "  var convertedData = [];\n",
       "  //pandas gives each column the same number of\n",
       "  //objects, arbitrarily choose one to iterate over\n",
       "  for(var i in data[Object.keys(data)[0]]){\n",
       "    var convertedDatum = {};\n",
       "    for(var key in data){\n",
       "      convertedDatum[key] = data[key][i];\n",
       "    }\n",
       "    convertedData.push(convertedDatum);\n",
       "  }\n",
       "  return convertedData;\n",
       "}\n",
       "\n",
       "window.convertData = convertData;"
      ],
      "text/plain": [
       "<IPython.core.display.Javascript object>"
      ]
     },
     "metadata": {},
     "output_type": "display_data"
    }
   ],
   "source": [
    "%%javascript\n",
    "\n",
    "/*\n",
    " * As it turns out, pandas returns a dictionary with \n",
    " * the top-level keys as the column headers, and values\n",
    " * as the list of values under that column.\n",
    " * I'd recommend looking yourself.\n",
    " * This function, in JS, converts to what D3 wants.\n",
    " * Of course we could also easily do this on the python side.\n",
    " */\n",
    "function convertData(data){\n",
    "  var convertedData = [];\n",
    "  //pandas gives each column the same number of\n",
    "  //objects, arbitrarily choose one to iterate over\n",
    "  for(var i in data[Object.keys(data)[0]]){\n",
    "    var convertedDatum = {};\n",
    "    for(var key in data){\n",
    "      convertedDatum[key] = data[key][i];\n",
    "    }\n",
    "    convertedData.push(convertedDatum);\n",
    "  }\n",
    "  return convertedData;\n",
    "}\n",
    "\n",
    "window.convertData = convertData;"
   ]
  },
  {
   "cell_type": "code",
   "execution_count": 22,
   "metadata": {
    "collapsed": false
   },
   "outputs": [
    {
     "data": {
      "application/javascript": [
       "require.config({\n",
       "  paths: {\n",
       "      d3: '//cdnjs.cloudflare.com/ajax/libs/d3/3.4.8/d3.min'\n",
       "  }\n",
       "});"
      ],
      "text/plain": [
       "<IPython.core.display.Javascript object>"
      ]
     },
     "metadata": {},
     "output_type": "display_data"
    }
   ],
   "source": [
    "%%javascript\n",
    "require.config({\n",
    "  paths: {\n",
    "      d3: '//cdnjs.cloudflare.com/ajax/libs/d3/3.4.8/d3.min'\n",
    "  }\n",
    "});"
   ]
  },
  {
   "cell_type": "code",
   "execution_count": 122,
   "metadata": {
    "collapsed": false
   },
   "outputs": [
    {
     "data": {
      "application/javascript": [
       "require(['d3'], function(d3){\n",
       "  var graph = convertData(window.pc);\n",
       "\n",
       "  $(\"#chart1\").remove();\n",
       "  element.append(\"<div id='chart1'></div>\");\n",
       "  $(\"#chart1\").width(\"960px\");\n",
       "  $(\"#chart1\").height(\"600px\");\n",
       "      \n",
       "\n",
       "  var margin = {top: 20, right: 20, bottom: 30, left: 40};\n",
       "  var width = 880 - margin.left - margin.right;\n",
       "  var height = 500 - margin.top - margin.bottom;\n",
       "  var svg = d3.select(\"#chart1\").append(\"svg\")\n",
       "    .style(\"position\", \"relative\")\n",
       "    .style(\"max-width\", \"960px\")\n",
       "    .attr(\"width\", width + \"px\")\n",
       "    .attr(\"height\", (height + 50) + \"px\");\n",
       "\n",
       "    \n",
       "  var data = {};  \n",
       "    \n",
       "  function unique(list) {\n",
       "    var result = [];\n",
       "    $.each(list, function(i, e) {\n",
       "        if ($.inArray(e, result) == -1) result.push(e);\n",
       "    });\n",
       "    return result;\n",
       "}\n",
       "\n",
       "  var n = [];\n",
       "  var n2 = [];\n",
       "  var lt = [];\n",
       "    \n",
       "  var graph_u = function() { \n",
       "      for(var i in graph){ \n",
       "          n.push(graph[i]['ga:productName_l']) \n",
       "          n.push(graph[i]['ga:productName_r'])\n",
       "      }\n",
       "      return unique(n)\n",
       "  }()\n",
       "  \n",
       "  \n",
       "  var nodes = function(){ \n",
       "      for(var i in graph_u){ \n",
       "          n2.push({\"group\":parseInt(i), \"product\":graph_u[i]})  \n",
       "      }\n",
       "      return n2\n",
       "  }()\n",
       "  \n",
       "  data.nodes = nodes;\n",
       "\n",
       "  function get_group(product_name){\n",
       "       for(var f in nodes){\n",
       "           if(nodes[f].product == product_name){\n",
       "               return parseInt(nodes[f].group)\n",
       "           }\n",
       "       }\n",
       "   }\n",
       "    \n",
       "    var l = [];\n",
       "    for(var g in graph){\n",
       "        l.push(\n",
       "            {\"source\": get_group(graph[g]['ga:productName_l']), \"target\": get_group(graph[g]['ga:productName_r']), \"value\": graph[g]['lift']}\n",
       "        )\n",
       "\n",
       "    }\n",
       "\n",
       "  data.links = l;\n",
       "  console.log(data)\n",
       "    \n",
       "  var color = d3.scale.category20();\n",
       "\n",
       "  var force = d3.layout.force()\n",
       "    .charge(-120)\n",
       "    .linkDistance(30)\n",
       "    .size([width, height]);\n",
       "     \n",
       "  force\n",
       "      .nodes(data.nodes)\n",
       "      .links(data.links)\n",
       "      .start();\n",
       "\n",
       "  var link = svg.selectAll(\".link\")\n",
       "      .data(data.links)\n",
       "    .enter().append(\"line\")\n",
       "      .attr(\"class\", \"link\")\n",
       "      .style(\"stroke-width\", function(d) { return Math.sqrt(d.value) *2 });\n",
       "\n",
       "  var node = svg.selectAll(\".node\")\n",
       "      .data(data.nodes)\n",
       "    .enter().append(\"circle\")\n",
       "      .attr(\"class\", \"node\")\n",
       "      .attr(\"r\", 5)\n",
       "      .style(\"fill\", function(d) { return color(d.product); })\n",
       "      .call(force.drag);\n",
       "\n",
       "  node.append(\"title\")\n",
       "      .attr(\"dx\", 12)\n",
       "      .attr(\"dy\", \".35em\")\n",
       "      .attr('color', \"black\")\n",
       "      .text(function(d) { return d.product; });\n",
       "\n",
       "  force.on(\"tick\", function() {\n",
       "    link.attr(\"x1\", function(d) { return d.source.x; })\n",
       "        .attr(\"y1\", function(d) { return d.source.y; })\n",
       "        .attr(\"x2\", function(d) { return d.target.x; })\n",
       "        .attr(\"y2\", function(d) { return d.target.y; });\n",
       "\n",
       "    node.attr(\"cx\", function(d) { return d.x; })\n",
       "        .attr(\"cy\", function(d) { return d.y; });\n",
       "  });\n",
       "  $('.node').css('stroke', \"#fff\")\n",
       "  $('.node').css('stroke-width','1.5')   \n",
       "  $('.link').css('stroke', '#999')\n",
       "  $('.link').css('stroke-opacity', '0.6')\n",
       "  \n",
       "\n",
       "  \n",
       "});"
      ],
      "text/plain": [
       "<IPython.core.display.Javascript object>"
      ]
     },
     "metadata": {},
     "output_type": "display_data"
    }
   ],
   "source": [
    "%%javascript\n",
    "require(['d3'], function(d3){\n",
    "  var graph = convertData(window.pc);\n",
    "\n",
    "  $(\"#chart1\").remove();\n",
    "  element.append(\"<div id='chart1'></div>\");\n",
    "  $(\"#chart1\").width(\"960px\");\n",
    "  $(\"#chart1\").height(\"600px\");\n",
    "      \n",
    "\n",
    "  var margin = {top: 20, right: 20, bottom: 30, left: 40};\n",
    "  var width = 880 - margin.left - margin.right;\n",
    "  var height = 500 - margin.top - margin.bottom;\n",
    "  var svg = d3.select(\"#chart1\").append(\"svg\")\n",
    "    .style(\"position\", \"relative\")\n",
    "    .style(\"max-width\", \"960px\")\n",
    "    .attr(\"width\", width + \"px\")\n",
    "    .attr(\"height\", (height + 50) + \"px\");\n",
    "\n",
    "    \n",
    "  var data = {};  \n",
    "    \n",
    "  function unique(list) {\n",
    "    var result = [];\n",
    "    $.each(list, function(i, e) {\n",
    "        if ($.inArray(e, result) == -1) result.push(e);\n",
    "    });\n",
    "    return result;\n",
    "}\n",
    "\n",
    "  var n = [];\n",
    "  var n2 = [];\n",
    "  var lt = [];\n",
    "    \n",
    "  var graph_u = function() { \n",
    "      for(var i in graph){ \n",
    "          n.push(graph[i]['ga:productName_l']) \n",
    "          n.push(graph[i]['ga:productName_r'])\n",
    "      }\n",
    "      return unique(n)\n",
    "  }()\n",
    "  \n",
    "  \n",
    "  var nodes = function(){ \n",
    "      for(var i in graph_u){ \n",
    "          n2.push({\"group\":parseInt(i), \"product\":graph_u[i]})  \n",
    "      }\n",
    "      return n2\n",
    "  }()\n",
    "  \n",
    "  data.nodes = nodes;\n",
    "\n",
    "  function get_group(product_name){\n",
    "       for(var f in nodes){\n",
    "           if(nodes[f].product == product_name){\n",
    "               return parseInt(nodes[f].group)\n",
    "           }\n",
    "       }\n",
    "   }\n",
    "    \n",
    "    var l = [];\n",
    "    for(var g in graph){\n",
    "        l.push(\n",
    "            {\"source\": get_group(graph[g]['ga:productName_l']), \"target\": get_group(graph[g]['ga:productName_r']), \"value\": graph[g]['lift']}\n",
    "        )\n",
    "\n",
    "    }\n",
    "\n",
    "  data.links = l;\n",
    "  console.log(data)\n",
    "    \n",
    "  var color = d3.scale.category20();\n",
    "\n",
    "  var force = d3.layout.force()\n",
    "    .charge(-120)\n",
    "    .linkDistance(30)\n",
    "    .size([width, height]);\n",
    "     \n",
    "  force\n",
    "      .nodes(data.nodes)\n",
    "      .links(data.links)\n",
    "      .start();\n",
    "\n",
    "  var link = svg.selectAll(\".link\")\n",
    "      .data(data.links)\n",
    "    .enter().append(\"line\")\n",
    "      .attr(\"class\", \"link\")\n",
    "      .style(\"stroke-width\", function(d) { return Math.sqrt(d.value) *2 });\n",
    "\n",
    "  var node = svg.selectAll(\".node\")\n",
    "      .data(data.nodes)\n",
    "    .enter().append(\"circle\")\n",
    "      .attr(\"class\", \"node\")\n",
    "      .attr(\"r\", 5)\n",
    "      .style(\"fill\", function(d) { return color(d.product); })\n",
    "      .call(force.drag);\n",
    "\n",
    "  node.append(\"title\")\n",
    "      .attr(\"dx\", 12)\n",
    "      .attr(\"dy\", \".35em\")\n",
    "      .attr('color', \"black\")\n",
    "      .text(function(d) { return d.product; });\n",
    "\n",
    "  force.on(\"tick\", function() {\n",
    "    link.attr(\"x1\", function(d) { return d.source.x; })\n",
    "        .attr(\"y1\", function(d) { return d.source.y; })\n",
    "        .attr(\"x2\", function(d) { return d.target.x; })\n",
    "        .attr(\"y2\", function(d) { return d.target.y; });\n",
    "\n",
    "    node.attr(\"cx\", function(d) { return d.x; })\n",
    "        .attr(\"cy\", function(d) { return d.y; });\n",
    "  });\n",
    "  $('.node').css('stroke', \"#fff\")\n",
    "  $('.node').css('stroke-width','1.5')   \n",
    "  $('.link').css('stroke', '#999')\n",
    "  $('.link').css('stroke-opacity', '0.6')\n",
    "  \n",
    "\n",
    "  \n",
    "});"
   ]
  },
  {
   "cell_type": "code",
   "execution_count": null,
   "metadata": {
    "collapsed": true
   },
   "outputs": [],
   "source": []
  }
 ],
 "metadata": {
  "kernelspec": {
   "display_name": "Python 2",
   "language": "python",
   "name": "python2"
  },
  "language_info": {
   "codemirror_mode": {
    "name": "ipython",
    "version": 2
   },
   "file_extension": ".py",
   "mimetype": "text/x-python",
   "name": "python",
   "nbconvert_exporter": "python",
   "pygments_lexer": "ipython2",
   "version": "2.7.11"
  }
 },
 "nbformat": 4,
 "nbformat_minor": 0
}
